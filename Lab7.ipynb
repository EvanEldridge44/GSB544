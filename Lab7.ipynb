{
 "cells": [
  {
   "attachments": {},
   "cell_type": "raw",
   "metadata": {},
   "source": [
    "---\n",
    "title: \"Lab 7 - Eldridge\"\n",
    "format:\n",
    "  html:\n",
    "    theme: darkly\n",
    "embed-resources: true\n",
    "---"
   ]
  },
  {
   "cell_type": "code",
   "execution_count": 8,
   "metadata": {},
   "outputs": [],
   "source": [
    "import pandas as pd\n",
    "import numpy as np\n",
    "from sklearn.pipeline import Pipeline\n",
    "from sklearn.compose import make_column_selector, ColumnTransformer\n",
    "from sklearn.preprocessing import StandardScaler, OneHotEncoder, PolynomialFeatures\n",
    "from sklearn.linear_model import LinearRegression, Ridge, Lasso, ElasticNet \n",
    "from sklearn.model_selection import train_test_split, cross_val_score\n",
    "from sklearn.metrics import r2_score\n",
    "from sklearn.model_selection import GridSearchCV\n",
    "from plotnine import ggplot, aes, geom_point, geom_abline, geom_hline, labs, theme_light"
   ]
  },
  {
   "cell_type": "code",
   "execution_count": 4,
   "metadata": {},
   "outputs": [
    {
     "name": "stdout",
     "output_type": "stream",
     "text": [
      "<class 'pandas.core.frame.DataFrame'>\n",
      "RangeIndex: 273 entries, 0 to 272\n",
      "Data columns (total 8 columns):\n",
      " #   Column   Non-Null Count  Dtype\n",
      "---  ------   --------------  -----\n",
      " 0   age      273 non-null    int64\n",
      " 1   sex      273 non-null    int64\n",
      " 2   cp       273 non-null    int64\n",
      " 3   trtbps   273 non-null    int64\n",
      " 4   chol     273 non-null    int64\n",
      " 5   restecg  273 non-null    int64\n",
      " 6   thalach  273 non-null    int64\n",
      " 7   output   273 non-null    int64\n",
      "dtypes: int64(8)\n",
      "memory usage: 17.2 KB\n"
     ]
    }
   ],
   "source": [
    "ha = pd.read_csv(\"https://www.dropbox.com/s/aohbr6yb9ifmc8w/heart_attack.csv?dl=1\")\n",
    "ha.info()"
   ]
  },
  {
   "cell_type": "code",
   "execution_count": 5,
   "metadata": {},
   "outputs": [
    {
     "data": {
      "text/html": [
       "<div>\n",
       "<style scoped>\n",
       "    .dataframe tbody tr th:only-of-type {\n",
       "        vertical-align: middle;\n",
       "    }\n",
       "\n",
       "    .dataframe tbody tr th {\n",
       "        vertical-align: top;\n",
       "    }\n",
       "\n",
       "    .dataframe thead th {\n",
       "        text-align: right;\n",
       "    }\n",
       "</style>\n",
       "<table border=\"1\" class=\"dataframe\">\n",
       "  <thead>\n",
       "    <tr style=\"text-align: right;\">\n",
       "      <th></th>\n",
       "      <th>age</th>\n",
       "      <th>sex</th>\n",
       "      <th>cp</th>\n",
       "      <th>trtbps</th>\n",
       "      <th>chol</th>\n",
       "      <th>restecg</th>\n",
       "      <th>thalach</th>\n",
       "      <th>output</th>\n",
       "    </tr>\n",
       "  </thead>\n",
       "  <tbody>\n",
       "    <tr>\n",
       "      <th>0</th>\n",
       "      <td>63</td>\n",
       "      <td>1</td>\n",
       "      <td>3</td>\n",
       "      <td>145</td>\n",
       "      <td>233</td>\n",
       "      <td>0</td>\n",
       "      <td>150</td>\n",
       "      <td>1</td>\n",
       "    </tr>\n",
       "    <tr>\n",
       "      <th>1</th>\n",
       "      <td>37</td>\n",
       "      <td>1</td>\n",
       "      <td>2</td>\n",
       "      <td>130</td>\n",
       "      <td>250</td>\n",
       "      <td>1</td>\n",
       "      <td>187</td>\n",
       "      <td>1</td>\n",
       "    </tr>\n",
       "    <tr>\n",
       "      <th>2</th>\n",
       "      <td>56</td>\n",
       "      <td>1</td>\n",
       "      <td>1</td>\n",
       "      <td>120</td>\n",
       "      <td>236</td>\n",
       "      <td>1</td>\n",
       "      <td>178</td>\n",
       "      <td>1</td>\n",
       "    </tr>\n",
       "    <tr>\n",
       "      <th>3</th>\n",
       "      <td>57</td>\n",
       "      <td>0</td>\n",
       "      <td>0</td>\n",
       "      <td>120</td>\n",
       "      <td>354</td>\n",
       "      <td>1</td>\n",
       "      <td>163</td>\n",
       "      <td>1</td>\n",
       "    </tr>\n",
       "    <tr>\n",
       "      <th>4</th>\n",
       "      <td>57</td>\n",
       "      <td>1</td>\n",
       "      <td>0</td>\n",
       "      <td>140</td>\n",
       "      <td>192</td>\n",
       "      <td>1</td>\n",
       "      <td>148</td>\n",
       "      <td>1</td>\n",
       "    </tr>\n",
       "  </tbody>\n",
       "</table>\n",
       "</div>"
      ],
      "text/plain": [
       "   age  sex  cp  trtbps  chol  restecg  thalach  output\n",
       "0   63    1   3     145   233        0      150       1\n",
       "1   37    1   2     130   250        1      187       1\n",
       "2   56    1   1     120   236        1      178       1\n",
       "3   57    0   0     120   354        1      163       1\n",
       "4   57    1   0     140   192        1      148       1"
      ]
     },
     "execution_count": 5,
     "metadata": {},
     "output_type": "execute_result"
    }
   ],
   "source": [
    "ha.head()"
   ]
  },
  {
   "attachments": {},
   "cell_type": "markdown",
   "metadata": {},
   "source": [
    "Part One: Fitting Models\n",
    "This section asks you to create a final best model for each of the model types studied this week. For each, you should:\n",
    "\n",
    "Find the best model based on ROC AUC for predicting the target variable.\n",
    "\n",
    "Report the (cross-validated!) ROC AUC metric.\n",
    "\n",
    "Fit the final model.\n",
    "\n",
    "Output a confusion matrix; that is, the counts of how many observations fell into each predicted class for each true class.\n",
    "\n",
    "(Where applicable) Interpret the coefficients and/or estimates produced by the model fit.\n",
    "\n",
    "You should certainly try multiple model pipelines to find the best model. You do not need to include the output for every attempted model, but you should describe all of the models explored. You should include any hyperparameter tuning steps in your writeup as well."
   ]
  },
  {
   "cell_type": "code",
   "execution_count": 10,
   "metadata": {},
   "outputs": [
    {
     "name": "stdout",
     "output_type": "stream",
     "text": [
      "Best k: 6\n",
      " ROC AUC for best k: 0.8500\n",
      "Confusion Matrix:\n",
      "[[26 12]\n",
      " [23 21]]\n",
      "              precision    recall  f1-score   support\n",
      "\n",
      "           0       0.53      0.68      0.60        38\n",
      "           1       0.64      0.48      0.55        44\n",
      "\n",
      "    accuracy                           0.57        82\n",
      "   macro avg       0.58      0.58      0.57        82\n",
      "weighted avg       0.59      0.57      0.57        82\n",
      "\n"
     ]
    }
   ],
   "source": [
    "#KNN\n",
    "from sklearn.model_selection import train_test_split, cross_val_score\n",
    "from sklearn.pipeline import Pipeline\n",
    "from sklearn.preprocessing import StandardScaler, OneHotEncoder\n",
    "from sklearn.compose import ColumnTransformer\n",
    "from sklearn.neighbors import KNeighborsClassifier\n",
    "from sklearn.metrics import roc_auc_score, confusion_matrix, classification_report\n",
    "\n",
    "X = ha.drop(columns=[\"output\"])\n",
    "y = ha[\"output\"]\n",
    "\n",
    "categorical_features = [\"sex\", \"cp\", \"restecg\"]\n",
    "numerical_features = [col for col in X.columns if col not in categorical_features]\n",
    "\n",
    "preprocessor = ColumnTransformer(\n",
    "    transformers=[\n",
    "        (\"num\", StandardScaler(), numerical_features),\n",
    "        (\"cat\", OneHotEncoder(drop=\"first\"), categorical_features),\n",
    "    ]\n",
    ")\n",
    "\n",
    "def create_knn_pipeline(k):\n",
    "    return Pipeline([\n",
    "        (\"preprocessor\", preprocessor),\n",
    "        (\"knn\", KNeighborsClassifier(n_neighbors=k))\n",
    "    ])\n",
    "\n",
    "X_train, X_test, y_train, y_test = train_test_split(X, y, test_size=0.3, random_state=42, stratify=y)\n",
    "\n",
    "\n",
    "ks = range(1, 21)\n",
    "\n",
    "#ChatGPT - Hyperparameter tuning: test different values of k\n",
    "cv_roc_aucs = []\n",
    "for k in ks:\n",
    "    knn_pipeline = create_knn_pipeline(k)\n",
    "    roc_auc = cross_val_score(knn_pipeline, X_train, y_train, cv=5, scoring=\"roc_auc\").mean()\n",
    "    cv_roc_aucs.append((k, roc_auc))\n",
    "\n",
    "# Find the best k\n",
    "best_k, best_roc_auc = max(cv_roc_aucs, key=lambda x: x[1])\n",
    "\n",
    "final_knn_pipeline = create_knn_pipeline(best_k)\n",
    "final_knn_pipeline.fit(X_train, y_train)\n",
    "\n",
    "y_pred = final_knn_pipeline.predict(X_test)\n",
    "y_proba = final_knn_pipeline.predict_proba(X_test)[:, 1]\n",
    "\n",
    "conf_matrix = confusion_matrix(y_test, y_pred)\n",
    "roc_auc = roc_auc_score(y_test, y_proba)\n",
    "classification_rep = classification_report(y_test, y_pred)\n",
    "\n",
    "print(f\"Best k: {best_k}\")\n",
    "print(f\" ROC AUC for best k: {best_roc_auc:.4f}\")\n",
    "print(\"Confusion Matrix:\")\n",
    "print(conf_matrix)\n",
    "print(classification_rep)\n"
   ]
  },
  {
   "cell_type": "code",
   "execution_count": 12,
   "metadata": {},
   "outputs": [
    {
     "name": "stdout",
     "output_type": "stream",
     "text": [
      "Cross-validated ROC AUC: 0.8672\n",
      "Confusion Matrix:\n",
      "[[26 12]\n",
      " [ 8 36]]\n",
      "\n",
      "Classification Report:\n",
      "              precision    recall  f1-score   support\n",
      "\n",
      "           0       0.76      0.68      0.72        38\n",
      "           1       0.75      0.82      0.78        44\n",
      "\n",
      "    accuracy                           0.76        82\n",
      "   macro avg       0.76      0.75      0.75        82\n",
      "weighted avg       0.76      0.76      0.75        82\n",
      "\n",
      "\n",
      "Feature Coefficients:\n",
      "          Feature  Coefficient\n",
      "5       cat__cp_1     1.684063\n",
      "6       cat__cp_2     1.409925\n",
      "3    num__thalach     0.877834\n",
      "7       cat__cp_3     0.790841\n",
      "8  cat__restecg_1     0.562695\n",
      "9  cat__restecg_2    -0.007461\n",
      "2       num__chol    -0.085833\n",
      "1     num__trtbps    -0.166962\n",
      "0        num__age    -0.264865\n",
      "4      cat__sex_1    -1.595088\n"
     ]
    }
   ],
   "source": [
    "#Q2: Logistic Regression\n",
    "from sklearn.linear_model import LogisticRegression\n",
    "\n",
    "logreg_pipeline = Pipeline([\n",
    "    (\"preprocessor\", preprocessor),\n",
    "    (\"logreg\", LogisticRegression(max_iter=1000, random_state=42))\n",
    "])\n",
    "\n",
    "logreg_cv_score = cross_val_score(logreg_pipeline, X_train, y_train, cv=5, scoring=\"roc_auc\").mean()\n",
    "\n",
    "logreg_pipeline.fit(X_train, y_train)\n",
    "\n",
    "y_pred = logreg_pipeline.predict(X_test)\n",
    "y_proba = logreg_pipeline.predict_proba(X_test)[:, 1]\n",
    "\n",
    "roc_auc = roc_auc_score(y_test, y_proba)\n",
    "conf_matrix = confusion_matrix(y_test, y_pred)\n",
    "classification_rep = classification_report(y_test, y_pred)\n",
    "\n",
    "coefficients = logreg_pipeline.named_steps[\"logreg\"].coef_\n",
    "feature_names = logreg_pipeline.named_steps[\"preprocessor\"].get_feature_names_out()\n",
    "#ChatGPT - Coefficient CV\n",
    "coef_df = pd.DataFrame({\"Feature\": feature_names, \"Coefficient\": coefficients[0]})\n",
    "\n",
    "print(f\"Cross-validated ROC AUC: {logreg_cv_score:.4f}\")\n",
    "print(\"Confusion Matrix:\")\n",
    "print(conf_matrix)\n",
    "print(\"\\nClassification Report:\")\n",
    "print(classification_rep)\n",
    "print(\"\\nFeature Coefficients:\")\n",
    "print(coef_df.sort_values(by=\"Coefficient\", ascending=False))\n"
   ]
  },
  {
   "attachments": {},
   "cell_type": "markdown",
   "metadata": {},
   "source": [
    "Chest pain type (cp) is the strongest predictor, with cp_1 and cp_2 having the largest positive associations.\n",
    "Maximum heart rate (thalach) also has a notable positive influence on risk.\n",
    "Variables like sex, age, and resting blood pressure show moderate to weak negative associations with risk in this dataset."
   ]
  },
  {
   "cell_type": "code",
   "execution_count": 14,
   "metadata": {},
   "outputs": [
    {
     "name": "stdout",
     "output_type": "stream",
     "text": [
      "Best Tree Depth: 2\n",
      "Cross-validated ROC AUC for best depth: 0.7928\n",
      "Test ROC AUC: 0.6597\n",
      "Confusion Matrix:\n",
      "[[25 13]\n",
      " [16 28]]\n",
      "\n",
      "Classification Report:\n",
      "              precision    recall  f1-score   support\n",
      "\n",
      "           0       0.61      0.66      0.63        38\n",
      "           1       0.68      0.64      0.66        44\n",
      "\n",
      "    accuracy                           0.65        82\n",
      "   macro avg       0.65      0.65      0.65        82\n",
      "weighted avg       0.65      0.65      0.65        82\n",
      "\n"
     ]
    },
    {
     "data": {
      "image/png": "[encoded data removed]",
      "text/plain": [
       "<Figure size 720x432 with 1 Axes>"
      ]
     },
     "metadata": {
      "needs_background": "light"
     },
     "output_type": "display_data"
    }
   ],
   "source": [
    "#Decision Tree\n",
    "from sklearn.tree import DecisionTreeClassifier\n",
    "import matplotlib.pyplot as plt\n",
    "import numpy as np\n",
    "\n",
    "def create_decision_tree_pipeline(max_depth):\n",
    "    return Pipeline([\n",
    "        (\"preprocessor\", preprocessor),\n",
    "        (\"decision_tree\", DecisionTreeClassifier(max_depth=max_depth, random_state=42))\n",
    "    ])\n",
    "\n",
    "# Hyperparameter Tuning\n",
    "depths = range(1, 21)\n",
    "cv_roc_aucs = []\n",
    "\n",
    "for depth in depths:\n",
    "    dt_pipeline = create_decision_tree_pipeline(max_depth=depth)\n",
    "    roc_auc = cross_val_score(dt_pipeline, X_train, y_train, cv=5, scoring=\"roc_auc\").mean()\n",
    "    cv_roc_aucs.append((depth, roc_auc))\n",
    "\n",
    "# Find the best depth\n",
    "best_depth, best_roc_auc = max(cv_roc_aucs, key=lambda x: x[1])\n",
    "\n",
    "final_dt_pipeline = create_decision_tree_pipeline(max_depth=best_depth)\n",
    "final_dt_pipeline.fit(X_train, y_train)\n",
    "\n",
    "y_pred = final_dt_pipeline.predict(X_test)\n",
    "y_proba = final_dt_pipeline.predict_proba(X_test)[:, 1]\n",
    "\n",
    "roc_auc = roc_auc_score(y_test, y_proba)\n",
    "conf_matrix = confusion_matrix(y_test, y_pred)\n",
    "classification_rep = classification_report(y_test, y_pred)\n",
    "\n",
    "#ChatGPT - Feature Importance\n",
    "tree_model = final_dt_pipeline.named_steps[\"decision_tree\"]\n",
    "feature_importances = tree_model.feature_importances_\n",
    "feature_names = final_dt_pipeline.named_steps[\"preprocessor\"].get_feature_names_out()\n",
    "importance_df = pd.DataFrame({\n",
    "    \"Feature\": feature_names,\n",
    "    \"Importance\": feature_importances\n",
    "}).sort_values(by=\"Importance\", ascending=False)\n",
    "\n",
    "\n",
    "print(f\"Best Tree Depth: {best_depth}\")\n",
    "print(f\"Cross-validated ROC AUC for best depth: {best_roc_auc:.4f}\")\n",
    "print(f\"Test ROC AUC: {roc_auc:.4f}\")\n",
    "print(\"Confusion Matrix:\")\n",
    "print(conf_matrix)\n",
    "print(\"\\nClassification Report:\")\n",
    "print(classification_rep)\n",
    "\n",
    "#ChatGPT - Plot feature importance\n",
    "plt.figure(figsize=(10, 6))\n",
    "plt.barh(importance_df[\"Feature\"], importance_df[\"Importance\"])\n",
    "plt.xlabel(\"Feature Importance\")\n",
    "plt.ylabel(\"Features\")\n",
    "plt.title(\"Feature Importance for Decision Tree\")\n",
    "plt.gca().invert_yaxis()\n",
    "plt.show()\n",
    "\n"
   ]
  },
  {
   "attachments": {},
   "cell_type": "markdown",
   "metadata": {},
   "source": [
    "Interpretation:\n",
    "Chest pain type (cp_1, cp_2, cp_3) is the strongest predictor of heart attack risk.\n",
    "Maximum heart rate achieved during exercise (thalach) is another critical feature.\n",
    "Other features (age, sex, and cholesterol) have less consistent importance but may contribute indirectly or interact with stronger predictors."
   ]
  },
  {
   "cell_type": "code",
   "execution_count": 16,
   "metadata": {},
   "outputs": [
    {
     "data": {
      "image/png": "[encoded data removed]",
      "text/plain": [
       "<Figure size 720x432 with 1 Axes>"
      ]
     },
     "metadata": {
      "needs_background": "light"
     },
     "output_type": "display_data"
    }
   ],
   "source": [
    "from sklearn.metrics import roc_curve, auc\n",
    "import matplotlib.pyplot as plt\n",
    "\n",
    "def plot_roc_curve(models, X_test, y_test):\n",
    "    plt.figure(figsize=(10, 6))\n",
    "    \n",
    "    for name, model in models:\n",
    "        y_proba = model.predict_proba(X_test)[:, 1]\n",
    "        \n",
    "        #ChatGPT - Compute ROC curve and AUC\n",
    "        fpr, tpr, _ = roc_curve(y_test, y_proba)\n",
    "        roc_auc = auc(fpr, tpr)\n",
    "        \n",
    "        plt.plot(fpr, tpr, label=f\"{name} (AUC = {roc_auc:.2f})\")\n",
    "    \n",
    "    #ChatGPT - Plot diagonal line for random guessing\n",
    "    plt.plot([0, 1], [0, 1], color=\"gray\", linestyle=\"--\", label=\"Random Guess\")\n",
    "    \n",
    "    plt.xlabel(\"False Positive Rate\")\n",
    "    plt.ylabel(\"True Positive Rate\")\n",
    "    plt.title(\"ROC Curves for Models\")\n",
    "    plt.legend(loc=\"lower right\")\n",
    "    plt.grid()\n",
    "    plt.show()\n",
    "\n",
    "models = [\n",
    "    (\"KNN\", final_knn_pipeline),\n",
    "    (\"Logistic Regression\", logreg_pipeline),\n",
    "    (\"Decision Tree\", final_dt_pipeline),\n",
    "]\n",
    "\n",
    "plot_roc_curve(models, X_test, y_test)\n"
   ]
  },
  {
   "cell_type": "code",
   "execution_count": 17,
   "metadata": {},
   "outputs": [
    {
     "name": "stdout",
     "output_type": "stream",
     "text": [
      "KNN - True Positive Rate (Recall): 0.6471\n",
      "Logistic Regression - True Positive Rate (Recall): 0.8333\n",
      "Decision Tree - True Positive Rate (Recall): 0.6961\n"
     ]
    }
   ],
   "source": [
    "#True Positive Rate or Recall or Sensitivity \n",
    "from sklearn.model_selection import cross_val_predict\n",
    "\n",
    "models = [(\"KNN\", final_knn_pipeline), \n",
    "          (\"Logistic Regression\", logreg_pipeline), \n",
    "          (\"Decision Tree\", final_dt_pipeline)]\n",
    "\n",
    "for name, model in models:\n",
    "    y_pred_cv = cross_val_predict(model, X_train, y_train, cv=5, method=\"predict\")\n",
    "    \n",
    "    tp = sum((y_train == 1) & (y_pred_cv == 1))\n",
    "    fn = sum((y_train == 1) & (y_pred_cv == 0))\n",
    "    recall = tp / (tp + fn)\n",
    "    \n",
    "    print(f\"{name} - True Positive Rate (Recall): {recall:.4f}\")\n"
   ]
  },
  {
   "cell_type": "code",
   "execution_count": 18,
   "metadata": {},
   "outputs": [
    {
     "name": "stdout",
     "output_type": "stream",
     "text": [
      "KNN - Precision: 0.9041\n",
      "Logistic Regression - Precision: 0.7870\n",
      "Decision Tree - Precision: 0.7717\n"
     ]
    }
   ],
   "source": [
    "# Precision or Positive Predictive Value\n",
    "for name, model in models:\n",
    "    y_pred_cv = cross_val_predict(model, X_train, y_train, cv=5, method=\"predict\")\n",
    "    \n",
    "    tp = sum((y_train == 1) & (y_pred_cv == 1))\n",
    "    fp = sum((y_train == 0) & (y_pred_cv == 1))\n",
    "    precision = tp / (tp + fp)\n",
    "    \n",
    "    print(f\"{name} - Precision: {precision:.4f}\")\n"
   ]
  },
  {
   "cell_type": "code",
   "execution_count": 19,
   "metadata": {},
   "outputs": [
    {
     "name": "stdout",
     "output_type": "stream",
     "text": [
      "KNN - True Negative Rate (Specificity): 0.9213\n",
      "Logistic Regression - True Negative Rate (Specificity): 0.7416\n",
      "Decision Tree - True Negative Rate (Specificity): 0.7640\n"
     ]
    }
   ],
   "source": [
    "# True Negative Rate or Specificity or Negative Predictive Value\n",
    "for name, model in models:\n",
    "    y_pred_cv = cross_val_predict(model, X_train, y_train, cv=5, method=\"predict\")\n",
    "    \n",
    "    tn = sum((y_train == 0) & (y_pred_cv == 0))\n",
    "    fp = sum((y_train == 0) & (y_pred_cv == 1))\n",
    "    specificity = tn / (tn + fp)\n",
    "    \n",
    "    print(f\"{name} - True Negative Rate (Specificity): {specificity:.4f}\")\n"
   ]
  },
  {
   "attachments": {},
   "cell_type": "markdown",
   "metadata": {},
   "source": [
    "Q1: The hospital faces severe lawsuits if they deem a patient to be low risk, and that patient later experiences a heart attack.\n",
    "Recommended Model: Logistic Regression (AUC = 0.80)\n",
    "Reason:\n",
    "Logistic Regression achieves the highest True Positive Rate (Recall) of 0.8333, minimizing false negatives better than KNN (0.6471) and Decision Tree (0.6961). It also maintains a reasonable Precision of 0.7870, ensuring that most patients predicted as at-risk are truly at risk.\n",
    "\n",
    "Expected Performance:\n",
    "Recall (True Positive Rate): ~83.33% (captures most at-risk patients).\n",
    "Precision: ~78.70% (accurately identifies at-risk patients).\n",
    "Final Recommendation:\n",
    "To reduce lawsuits, prioritize Recall to identify as many at-risk patients as possible. Use the Logistic Regression model for its balance of high Recall and reasonable Precision."
   ]
  },
  {
   "attachments": {},
   "cell_type": "markdown",
   "metadata": {},
   "source": [
    "Q2: The hospital is overfull, and wants to only use bed space for patients most in need of monitoring due to heart attack risk.\n",
    "Recommended Model: KNN (AUC = 0.63)\n",
    "Reason:\n",
    "KNN achieves the highest Precision (0.9041), ensuring that ~90% of patients predicted to be at risk are truly at risk. This minimizes unnecessary bed usage. While its Recall (0.6471) is lower, Precision aligns better with the hospital's priority.\n",
    "\n",
    "Expected Performance:\n",
    "Precision: ~90.41% (accurately identifies at-risk patients).\n",
    "Recall: ~64.71% (captures most truly at-risk patients).\n",
    "Final Recommendation:\n",
    "To optimize bed space, prioritize Precision and use the KNN model to ensure only truly at-risk patients are monitored."
   ]
  },
  {
   "attachments": {},
   "cell_type": "markdown",
   "metadata": {},
   "source": [
    "Q3: The hospital is studying root causes of heart attacks, and would like to understand which biological measures are associated with heart attack risk.\n",
    "Recommended Model: Logistic Regression (AUC = 0.80)\n",
    "Reason:\n",
    "Logistic Regression provides interpretable coefficients, revealing the relationship between features and heart attack risk. Key predictors like cp_1 (typical angina) and thalach (heart rate) show strong associations.\n",
    "\n",
    "Expected Performance:\n",
    "AUC: ~0.80 (strong discrimination).\n",
    "Key Predictors: cp_1, thalach, and other biological features.\n",
    "Final Recommendation:\n",
    "Use Logistic Regression to study root causes, as it offers clear insights into which biological measures contribute to heart attack risk."
   ]
  },
  {
   "attachments": {},
   "cell_type": "markdown",
   "metadata": {},
   "source": [
    "Q4: The hospital is training a new batch of doctors, and they would like to compare the diagnoses of these doctors to the predictions given by the algorithm to measure the ability of new doctors to diagnose patients.\n",
    "Recommended Model: Decision Tree (AUC = 0.66)\n",
    "Reason:\n",
    "Decision Trees mimic human decision-making by creating easily interpretable, rule-based predictions. This makes it ideal for comparison with doctor diagnoses and provides straightforward insights into how predictions are made.\n",
    "\n",
    "Expected Performance:\n",
    "AUC: ~0.66 (moderate discrimination).\n",
    "Key Feature: The model’s decision rules can directly compare to doctors’ diagnostic reasoning.\n",
    "Final Recommendation:\n",
    "Use the Decision Tree model to align predictions with human reasoning, making it easier to measure and train new doctors’ diagnostic abilities."
   ]
  },
  {
   "attachments": {},
   "cell_type": "markdown",
   "metadata": {},
   "source": [
    "Part 4: Validation\n",
    "Before sharing the dataset with you, I set aside a random 10% of the observations to serve as a final validation set.\n",
    "\n",
    "ha_validation = pd.read_csv(\"https://www.dropbox.com/s/jkwqdiyx6o6oad0/heart_attack_validation.csv?dl=1\")\n",
    "\n",
    "Use each of your final models in Part One Q1-3, predict the target variable in the validation dataset.\n",
    "\n",
    "For each, output a confusion matrix, and report the ROC AUC, the precision, and the recall."
   ]
  },
  {
   "cell_type": "code",
   "execution_count": 22,
   "metadata": {},
   "outputs": [
    {
     "name": "stdout",
     "output_type": "stream",
     "text": [
      "KNN:\n",
      "  ROC AUC: 0.8158\n",
      "  Precision: 0.8462\n",
      "  Recall: 0.5789\n",
      "  Confusion Matrix:\n",
      "[[ 9  2]\n",
      " [ 8 11]]\n",
      "\n",
      "Logistic Regression:\n",
      "  ROC AUC: 0.8469\n",
      "  Precision: 0.8750\n",
      "  Recall: 0.7368\n",
      "  Confusion Matrix:\n",
      "[[ 9  2]\n",
      " [ 5 14]]\n",
      "\n",
      "Decision Tree:\n",
      "  ROC AUC: 0.8421\n",
      "  Precision: 0.9231\n",
      "  Recall: 0.6316\n",
      "  Confusion Matrix:\n",
      "[[10  1]\n",
      " [ 7 12]]\n",
      "\n"
     ]
    }
   ],
   "source": [
    "from sklearn.metrics import roc_auc_score, confusion_matrix, precision_score, recall_score\n",
    "\n",
    "ha_validation = pd.read_csv(\"https://www.dropbox.com/s/jkwqdiyx6o6oad0/heart_attack_validation.csv?dl=1\")\n",
    "\n",
    "# ChatGPT - Function to evaluate models with consistent preprocessing\n",
    "def evaluate_model(name, model, X, y):\n",
    "    y_pred = model.predict(X)  # Preprocessing happens within the pipeline\n",
    "    y_proba = model.predict_proba(X)[:, 1]  # Preprocessing also applies here\n",
    "\n",
    "    roc_auc = roc_auc_score(y, y_proba)\n",
    "    precision = precision_score(y, y_pred)\n",
    "    recall = recall_score(y, y_pred)\n",
    "    conf_matrix = confusion_matrix(y, y_pred)\n",
    "\n",
    "    print(f\"{name}:\")\n",
    "    print(f\"  ROC AUC: {roc_auc:.4f}\")\n",
    "    print(f\"  Precision: {precision:.4f}\")\n",
    "    print(f\"  Recall: {recall:.4f}\")\n",
    "    print(\"  Confusion Matrix:\")\n",
    "    print(conf_matrix)\n",
    "    print()\n",
    "\n",
    "models = [\n",
    "    (\"KNN\", final_knn_pipeline),\n",
    "    (\"Logistic Regression\", logreg_pipeline),\n",
    "    (\"Decision Tree\", final_dt_pipeline),\n",
    "]\n",
    "\n",
    "for name, model in models:\n",
    "    evaluate_model(name, model, X_val, y_val)  \n"
   ]
  },
  {
   "attachments": {},
   "cell_type": "markdown",
   "metadata": {},
   "source": [
    "Logistic Regression:\n",
    "Performed consistently well, with both validation and cross-validated results aligning closely.\n",
    "Maintains strong balance between precision and recall, making it a reliable model for generalization.\n",
    "\n",
    "Decision Tree:\n",
    "Surpassed cross-validated expectations in terms of ROC AUC and Precision.\n",
    "Recall slightly decreased, but the model performed better than anticipated overall.\n",
    "\n",
    "KNN:\n",
    "Showed the largest discrepancy between cross-validated ROC AUC and validation ROC AUC, performing much better on the validation set.\n",
    "Precision and Recall were slightly lower than expected.\n",
    "\n",
    "Conclusion:\n",
    "The cross-validated estimates generally aligned with the validation results, particularly for Logistic Regression and Decision Tree. However, KNN showed unexpected improvement in ROC AUC on the validation set. Overall, Logistic Regression remains the most reliable model, balancing all metrics effectively and generalizing well."
   ]
  },
  {
   "attachments": {},
   "cell_type": "markdown",
   "metadata": {},
   "source": [
    "Part Five: Cohen’s Kappa\n",
    "Another common metric used in classification is Cohen’s Kappa.\n",
    "\n",
    "Use online resources to research this measurement. Calculate it for the models from Part One, Q1-3, and discuss reasons or scenarios that would make us prefer to use this metric as our measure of model success. "
   ]
  },
  {
   "cell_type": "code",
   "execution_count": 23,
   "metadata": {},
   "outputs": [
    {
     "name": "stdout",
     "output_type": "stream",
     "text": [
      "KNN - Cohen's Kappa: 0.3562\n",
      "Logistic Regression - Cohen's Kappa: 0.5249\n",
      "Decision Tree - Cohen's Kappa: 0.4850\n"
     ]
    }
   ],
   "source": [
    "# Definition: Cohen’s Kappa measures the level of agreement between a model’s predictions and the true class labels, adjusted for agreement that could happen by chance.\n",
    "from sklearn.metrics import cohen_kappa_score\n",
    "\n",
    "def evaluate_kappa(name, model, X, y):\n",
    "    y_pred = model.predict(X)\n",
    "\n",
    "    kappa = cohen_kappa_score(y, y_pred)\n",
    "    \n",
    "    print(f\"{name} - Cohen's Kappa: {kappa:.4f}\")\n",
    "\n",
    "for name, model in models:\n",
    "    evaluate_kappa(name, model, X_val, y_val)\n"
   ]
  },
  {
   "attachments": {},
   "cell_type": "markdown",
   "metadata": {},
   "source": [
    "Do the Conclusions Change:\n",
    "No, the conclusions from earlier analyses remain consistent\n",
    "Logistic Regression is still the best-performing model overall, as it strikes the best balance between identifying true positives and avoiding false positives, reflected in the highest Kappa.\n",
    "Decision Tree remains the second-best, with moderate performance across all metrics.\n",
    "KNN is still the weakest model, with poor Recall dragging down its Kappa score despite strong Precision.\n",
    "\n",
    "This makes sense, because Cohen’s Kappa penalizes imbalance in class predictions (e.g., low Recall or low Precision).\n",
    "KNN’s struggles with Recall reduce its agreement with true labels, which is reflected in a low Kappa score.\n",
    "Logistic Regression’s strong balance between Recall and Precision naturally leads to the highest Kappa, confirming its reliability."
   ]
  }
 ],
 "metadata": {
  "kernelspec": {
   "display_name": "base",
   "language": "python",
   "name": "python3"
  },
  "language_info": {
   "codemirror_mode": {
    "name": "ipython",
    "version": 3
   },
   "file_extension": ".py",
   "mimetype": "text/x-python",
   "name": "python",
   "nbconvert_exporter": "python",
   "pygments_lexer": "ipython3",
   "version": "3.9.12"
  },
  "orig_nbformat": 4,
  "vscode": {
   "interpreter": {
    "hash": "d68bc9174181c9a2e4ba6d03ea5ca7322c445067c2e91f03974787df37163303"
   }
  }
 },
 "nbformat": 4,
 "nbformat_minor": 2
}
