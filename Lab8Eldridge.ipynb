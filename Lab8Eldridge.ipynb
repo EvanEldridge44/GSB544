{
 "cells": [
  {
   "cell_type": "raw",
   "metadata": {},
   "source": [
    "---\n",
    "title: \"Lab 8 - Eldridge\"\n",
    "format:\n",
    "  html:\n",
    "    theme: darkly\n",
    "embed-resources: true\n",
    "---"
   ]
  },
  {
   "cell_type": "code",
   "execution_count": 2,
   "metadata": {},
   "outputs": [],
   "source": [
    "import pandas as pd\n",
    "import numpy as np\n",
    "from sklearn.pipeline import Pipeline\n",
    "from sklearn.compose import make_column_selector, ColumnTransformer\n",
    "from sklearn.preprocessing import StandardScaler, OneHotEncoder, PolynomialFeatures\n",
    "from sklearn.linear_model import LinearRegression, Ridge, Lasso, ElasticNet \n",
    "from sklearn.model_selection import train_test_split, cross_val_score\n",
    "from sklearn.metrics import r2_score\n",
    "from sklearn.model_selection import GridSearchCV\n",
    "from plotnine import ggplot, aes, geom_point, geom_abline, geom_hline, labs, theme_light\n",
    "from sklearn.discriminant_analysis import LinearDiscriminantAnalysis as LDA, QuadraticDiscriminantAnalysis as QDA\n",
    "from sklearn.svm import SVC\n",
    "from sklearn.tree import DecisionTreeClassifier, plot_tree\n",
    "from sklearn.neighbors import KNeighborsClassifier\n",
    "from sklearn.linear_model import LogisticRegression\n",
    "from sklearn.svm import SVC\n",
    "from sklearn.preprocessing import StandardScaler\n",
    "from sklearn.metrics import confusion_matrix, accuracy_score\n",
    "from sklearn.metrics import classification_report"
   ]
  },
  {
   "cell_type": "code",
   "execution_count": 3,
   "metadata": {},
   "outputs": [
    {
     "name": "stdout",
     "output_type": "stream",
     "text": [
      "<class 'pandas.core.frame.DataFrame'>\n",
      "Index: 2191 entries, 0 to 2350\n",
      "Data columns (total 69 columns):\n",
      " #   Column        Non-Null Count  Dtype  \n",
      "---  ------        --------------  -----  \n",
      " 0   Strain        2191 non-null   object \n",
      " 1   Type          2191 non-null   object \n",
      " 2   Rating        2191 non-null   float64\n",
      " 3   Effects       2191 non-null   object \n",
      " 4   Flavor        2191 non-null   object \n",
      " 5   Creative      2191 non-null   float64\n",
      " 6   Energetic     2191 non-null   float64\n",
      " 7   Tingly        2191 non-null   float64\n",
      " 8   Euphoric      2191 non-null   float64\n",
      " 9   Relaxed       2191 non-null   float64\n",
      " 10  Aroused       2191 non-null   float64\n",
      " 11  Happy         2191 non-null   float64\n",
      " 12  Uplifted      2191 non-null   float64\n",
      " 13  Hungry        2191 non-null   float64\n",
      " 14  Talkative     2191 non-null   float64\n",
      " 15  Giggly        2191 non-null   float64\n",
      " 16  Focused       2191 non-null   float64\n",
      " 17  Sleepy        2191 non-null   float64\n",
      " 18  Dry           2191 non-null   float64\n",
      " 19  Mouth         2191 non-null   float64\n",
      " 20  Earthy        2191 non-null   float64\n",
      " 21  Sweet         2191 non-null   float64\n",
      " 22  Citrus        2191 non-null   float64\n",
      " 23  Flowery       2191 non-null   float64\n",
      " 24  Violet        2191 non-null   float64\n",
      " 25  Diesel        2191 non-null   float64\n",
      " 26  Spicy/Herbal  2191 non-null   float64\n",
      " 27  Sage          2191 non-null   float64\n",
      " 28  Woody         2191 non-null   float64\n",
      " 29  Apricot       2191 non-null   float64\n",
      " 30  Grapefruit    2191 non-null   float64\n",
      " 31  Orange        2191 non-null   float64\n",
      " 32  Pungent       2191 non-null   float64\n",
      " 33  Grape         2191 non-null   float64\n",
      " 34  Pine          2191 non-null   float64\n",
      " 35  Skunk         2191 non-null   float64\n",
      " 36  Berry         2191 non-null   float64\n",
      " 37  Pepper        2191 non-null   float64\n",
      " 38  Menthol       2191 non-null   float64\n",
      " 39  Blue          2191 non-null   float64\n",
      " 40  Cheese        2191 non-null   float64\n",
      " 41  Chemical      2191 non-null   float64\n",
      " 42  Mango         2191 non-null   float64\n",
      " 43  Lemon         2191 non-null   float64\n",
      " 44  Peach         2191 non-null   float64\n",
      " 45  Vanilla       2191 non-null   float64\n",
      " 46  Nutty         2191 non-null   float64\n",
      " 47  Chestnut      2191 non-null   float64\n",
      " 48  Tea           2191 non-null   float64\n",
      " 49  Tobacco       2191 non-null   float64\n",
      " 50  Tropical      2191 non-null   float64\n",
      " 51  Strawberry    2191 non-null   float64\n",
      " 52  Blueberry     2191 non-null   float64\n",
      " 53  Mint          2191 non-null   float64\n",
      " 54  Apple         2191 non-null   float64\n",
      " 55  Honey         2191 non-null   float64\n",
      " 56  Lavender      2191 non-null   float64\n",
      " 57  Lime          2191 non-null   float64\n",
      " 58  Coffee        2191 non-null   float64\n",
      " 59  Ammonia       2191 non-null   float64\n",
      " 60  Minty         2191 non-null   float64\n",
      " 61  Tree          2191 non-null   float64\n",
      " 62  Fruit         2191 non-null   float64\n",
      " 63  Butter        2191 non-null   float64\n",
      " 64  Pineapple     2191 non-null   float64\n",
      " 65  Tar           2191 non-null   float64\n",
      " 66  Rose          2191 non-null   float64\n",
      " 67  Plum          2191 non-null   float64\n",
      " 68  Pear          2191 non-null   float64\n",
      "dtypes: float64(65), object(4)\n",
      "memory usage: 1.2+ MB\n"
     ]
    }
   ],
   "source": [
    "df = pd.read_csv(\"cannabis_full.csv\")\n",
    "df = df.dropna()\n",
    "df.info()"
   ]
  },
  {
   "attachments": {},
   "cell_type": "markdown",
   "metadata": {},
   "source": [
    "Part One: Binary Classification\n",
    "Create a dataset that is limited only to the Sativa and Indica type cannabis strains.\n",
    "\n",
    "This section asks you to create a final best model for each of the four new model types studied this week: LDA, QDA, SVC, and SVM. For SVM, you may limit yourself to only the polynomial kernel.\n",
    "\n",
    "For each, you should:\n",
    "\n",
    "Choose a metric you will use to select your model, and briefly justify your choice. (Hint: There is no specific target category here, so this should not be a metric that only prioritizes one category.)\n",
    "\n",
    "Find the best model for predicting the Type variable. Don’t forget to tune any hyperparameters.\n",
    "\n",
    "Report the (cross-validated!) metric.\n",
    "\n",
    "Fit the final model.\n",
    "\n",
    "Output a confusion matrix."
   ]
  },
  {
   "cell_type": "code",
   "execution_count": 5,
   "metadata": {},
   "outputs": [],
   "source": [
    "def best_model(df, targets, model_type):\n",
    "    \n",
    "    strain = df[df[\"Type\"].isin(targets)]\n",
    "    scaler = StandardScaler()\n",
    "    strain[\"Rating\"] = scaler.fit_transform(strain[[\"Rating\"]])\n",
    "    \n",
    "    X = strain.drop(columns=[\"Type\", \"Strain\", \"Effects\", \"Flavor\"])\n",
    "    y = strain[\"Type\"]\n",
    "    \n",
    "    X_train, X_test, y_train, y_test = train_test_split(X, y, test_size=0.2, random_state=1)\n",
    "    \n",
    "    #lda\n",
    "    if model_type == \"lda\":\n",
    "        model = LDA()\n",
    "        cv_scores = cross_val_score(model, X_train, y_train, cv=7, scoring=\"accuracy\")\n",
    "        model.fit(X_train, y_train)\n",
    "\n",
    "    #qda   \n",
    "    elif model_type == \"qda\":\n",
    "        params = {\"reg_param\": np.linspace(0, 1, 10)}\n",
    "        model = GridSearchCV(QDA(), param_grid=params, cv=7, scoring=\"accuracy\")\n",
    "        model.fit(X_train, y_train)\n",
    "        cv_scores = model.best_score_\n",
    "        model = model.best_estimator_\n",
    "\n",
    "    #svc   \n",
    "    elif model_type == \"svc\":\n",
    "        params = {\n",
    "            \"C\": [0.01, 0.1, 1, 10],\n",
    "            \"kernel\": [\"linear\", \"rbf\"]\n",
    "        }\n",
    "        model = GridSearchCV(SVC(), param_grid=params, cv=7, scoring=\"accuracy\")\n",
    "        model.fit(X_train, y_train)\n",
    "        cv_scores = model.best_score_\n",
    "        model = model.best_estimator_\n",
    "\n",
    "    #svm \n",
    "    elif model_type == \"svm\":\n",
    "        params = {\n",
    "            \"C\": [0.01, 0.1, 1, 10],\n",
    "            \"degree\": [2, 3, 4],\n",
    "            \"gamma\": [\"scale\", \"auto\"],\n",
    "            \"coef0\": [0, 1]\n",
    "        }\n",
    "        model = GridSearchCV(SVC(kernel=\"poly\"), param_grid=params, cv=7, scoring=\"accuracy\")\n",
    "        model.fit(X_train, y_train)\n",
    "        cv_scores = model.best_score_\n",
    "        model = model.best_estimator_\n",
    "   \n",
    "    #Part 2 - knn \n",
    "    elif model_type == \"knn\":\n",
    "        params = {\"n_neighbors\": range(1, 21)} \n",
    "        model = GridSearchCV(KNeighborsClassifier(), param_grid=params, cv=7, scoring=\"accuracy\")\n",
    "        model.fit(X_train, y_train)\n",
    "        cv_scores = model.best_score_\n",
    "        model = model.best_estimator_\n",
    "    \n",
    "    y_pred = model.predict(X_test)\n",
    "    cm = confusion_matrix(y_test, y_pred)\n",
    "    \n",
    "    return {\n",
    "        \"model\": model,\n",
    "        \"cv_accuracy\": np.mean(cv_scores) if model_type in [\"lda\", \"knn\"] else cv_scores,\n",
    "        \"matrix\": cm\n",
    "    }\n"
   ]
  },
  {
   "cell_type": "code",
   "execution_count": 9,
   "metadata": {},
   "outputs": [
    {
     "name": "stdout",
     "output_type": "stream",
     "text": [
      "0.8536299765807962\n",
      "[[121  12]\n",
      " [ 17  64]]\n"
     ]
    },
    {
     "name": "stderr",
     "output_type": "stream",
     "text": [
      "/var/folders/jb/g1z659_j7g7g3c677k1x2bsc0000gn/T/ipykernel_64683/926789510.py:5: SettingWithCopyWarning: \n",
      "A value is trying to be set on a copy of a slice from a DataFrame.\n",
      "Try using .loc[row_indexer,col_indexer] = value instead\n",
      "\n",
      "See the caveats in the documentation: https://pandas.pydata.org/pandas-docs/stable/user_guide/indexing.html#returning-a-view-versus-a-copy\n"
     ]
    }
   ],
   "source": [
    "#LDA\n",
    "lda = best_model(df, targets = [\"indica\", \"sativa\"], model_type=\"lda\")\n",
    "print(lda[\"cv_accuracy\"])\n",
    "print(lda[\"matrix\"])"
   ]
  },
  {
   "cell_type": "code",
   "execution_count": 13,
   "metadata": {},
   "outputs": [
    {
     "name": "stderr",
     "output_type": "stream",
     "text": [
      "/var/folders/jb/g1z659_j7g7g3c677k1x2bsc0000gn/T/ipykernel_2919/3050377483.py:5: SettingWithCopyWarning: \n",
      "A value is trying to be set on a copy of a slice from a DataFrame.\n",
      "Try using .loc[row_indexer,col_indexer] = value instead\n",
      "\n",
      "See the caveats in the documentation: https://pandas.pydata.org/pandas-docs/stable/user_guide/indexing.html#returning-a-view-versus-a-copy\n"
     ]
    },
    {
     "name": "stdout",
     "output_type": "stream",
     "text": [
      "0.864168618266979\n",
      "[[119  14]\n",
      " [ 15  66]]\n"
     ]
    }
   ],
   "source": [
    "#QDA \n",
    "import warnings\n",
    "warnings.filterwarnings(\"ignore\", message=\"Variables are collinear\")\n",
    "\n",
    "qda = best_model(df, targets = [\"indica\", \"sativa\"], model_type=\"qda\")\n",
    "print(qda[\"cv_accuracy\"])\n",
    "print(qda[\"matrix\"])"
   ]
  },
  {
   "cell_type": "code",
   "execution_count": 13,
   "metadata": {},
   "outputs": [
    {
     "name": "stderr",
     "output_type": "stream",
     "text": [
      "/var/folders/jb/g1z659_j7g7g3c677k1x2bsc0000gn/T/ipykernel_64683/926789510.py:5: SettingWithCopyWarning: \n",
      "A value is trying to be set on a copy of a slice from a DataFrame.\n",
      "Try using .loc[row_indexer,col_indexer] = value instead\n",
      "\n",
      "See the caveats in the documentation: https://pandas.pydata.org/pandas-docs/stable/user_guide/indexing.html#returning-a-view-versus-a-copy\n"
     ]
    },
    {
     "name": "stdout",
     "output_type": "stream",
     "text": [
      "0.864168618266979\n",
      "[[120  13]\n",
      " [ 15  66]]\n"
     ]
    }
   ],
   "source": [
    "#SVC\n",
    "svc = best_model(df, targets = [\"indica\", \"sativa\"], model_type=\"svc\")\n",
    "print(svc[\"cv_accuracy\"])\n",
    "print(svc[\"matrix\"])"
   ]
  },
  {
   "cell_type": "code",
   "execution_count": 14,
   "metadata": {},
   "outputs": [
    {
     "name": "stderr",
     "output_type": "stream",
     "text": [
      "/var/folders/jb/g1z659_j7g7g3c677k1x2bsc0000gn/T/ipykernel_64683/926789510.py:5: SettingWithCopyWarning: \n",
      "A value is trying to be set on a copy of a slice from a DataFrame.\n",
      "Try using .loc[row_indexer,col_indexer] = value instead\n",
      "\n",
      "See the caveats in the documentation: https://pandas.pydata.org/pandas-docs/stable/user_guide/indexing.html#returning-a-view-versus-a-copy\n"
     ]
    },
    {
     "name": "stdout",
     "output_type": "stream",
     "text": [
      "0.864168618266979\n",
      "[[120  13]\n",
      " [ 15  66]]\n"
     ]
    }
   ],
   "source": [
    "#SVM\n",
    "svm = best_model(df, targets = [\"indica\", \"sativa\"], model_type=\"svm\")\n",
    "print(svm[\"cv_accuracy\"])\n",
    "print(svm[\"matrix\"])"
   ]
  },
  {
   "attachments": {},
   "cell_type": "markdown",
   "metadata": {},
   "source": [
    "Part Two: Natural Multiclass\n",
    "Now use the full dataset, including the Hybrid strains.\n",
    "\n",
    "Q1\n",
    "Fit a decision tree, plot the final fit, and interpret the results.\n",
    "\n",
    "Q2\n",
    "Repeat the analyses from Part One for LDA, QDA, and KNN.\n",
    "\n",
    "Q3\n",
    "Were your metrics better or worse than in Part One? Why? Which categories were most likely to get mixed up, according to the confusion matrices? Why?"
   ]
  },
  {
   "cell_type": "code",
   "execution_count": 6,
   "metadata": {},
   "outputs": [],
   "source": [
    "hybrid = pd.read_csv(\"cannabis_full.csv\")\n",
    "hybrid = hybrid.dropna()"
   ]
  },
  {
   "cell_type": "code",
   "execution_count": 10,
   "metadata": {},
   "outputs": [
    {
     "name": "stdout",
     "output_type": "stream",
     "text": [
      "Fitting 5 folds for each of 36 candidates, totalling 180 fits\n",
      "Best Parameters: {'max_depth': 3, 'min_samples_leaf': 4, 'min_samples_split': 2}\n",
      "Test Accuracy: 0.6109422492401215\n"
     ]
    },
    {
     "data": {
      "image/png": "[encoded data removed]",
      "text/plain": [
       "<Figure size 1440x720 with 1 Axes>"
      ]
     },
     "metadata": {
      "needs_background": "light"
     },
     "output_type": "display_data"
    }
   ],
   "source": [
    "#Q1\n",
    "import matplotlib.pyplot as plt\n",
    "\n",
    "X = hybrid.drop(columns=[\"Type\", \"Strain\", \"Effects\", \"Flavor\"])\n",
    "y = hybrid[\"Type\"]\n",
    "\n",
    "X_train, X_test, y_train, y_test = train_test_split(X, y, test_size=0.3, random_state=42)\n",
    "\n",
    "tree = DecisionTreeClassifier(random_state=42)\n",
    "\n",
    "#Chat-gpt - Paramters for tuning\n",
    "param_grid = {\n",
    "    'max_depth': [3, 5, 10, None],\n",
    "    'min_samples_split': [2, 5, 10],\n",
    "    'min_samples_leaf': [1, 2, 4],\n",
    "}\n",
    "\n",
    "grid_search = GridSearchCV(estimator=tree, param_grid=param_grid, cv=5, scoring='accuracy', n_jobs=-1, verbose=1)\n",
    "grid_search.fit(X_train, y_train)\n",
    "\n",
    "best_params = grid_search.best_params_\n",
    "best_tree = grid_search.best_estimator_\n",
    "\n",
    "print(\"Best Parameters:\", best_params)\n",
    "\n",
    "y_pred = best_tree.predict(X_test)\n",
    "accuracy = accuracy_score(y_test, y_pred)\n",
    "print(f\"Test Accuracy: {accuracy}\")\n",
    "\n",
    "plt.figure(figsize=(20, 10))\n",
    "plot_tree(best_tree, feature_names=X.columns, class_names=True, filled=True, rounded=True)\n",
    "plt.show()"
   ]
  },
  {
   "cell_type": "code",
   "execution_count": 11,
   "metadata": {},
   "outputs": [
    {
     "name": "stdout",
     "output_type": "stream",
     "text": [
      "0.634720546385885\n",
      "[[138  42  33]\n",
      " [ 51  90   1]\n",
      " [ 49   4  31]]\n"
     ]
    }
   ],
   "source": [
    "#Q2\n",
    "lda = best_model(hybrid, targets = [\"indica\", \"sativa\", \"hybrid\"], model_type=\"lda\")\n",
    "print(lda[\"cv_accuracy\"])\n",
    "print(lda[\"matrix\"])"
   ]
  },
  {
   "cell_type": "code",
   "execution_count": 14,
   "metadata": {},
   "outputs": [
    {
     "name": "stdout",
     "output_type": "stream",
     "text": [
      "0.6278588503130337\n",
      "[[122  54  37]\n",
      " [ 43  96   3]\n",
      " [ 51   4  29]]\n"
     ]
    }
   ],
   "source": [
    "qda = best_model(hybrid, targets = [\"indica\", \"sativa\", \"hybrid\"], model_type=\"qda\")\n",
    "print(qda[\"cv_accuracy\"])\n",
    "print(qda[\"matrix\"])"
   ]
  },
  {
   "cell_type": "code",
   "execution_count": 16,
   "metadata": {},
   "outputs": [
    {
     "name": "stdout",
     "output_type": "stream",
     "text": [
      "0.6192737620944792\n",
      "[[158  38  17]\n",
      " [ 60  82   0]\n",
      " [ 68   4  12]]\n"
     ]
    }
   ],
   "source": [
    "knn = best_model(hybrid, targets = [\"indica\", \"sativa\", \"hybrid\"], model_type=\"knn\")\n",
    "print(knn[\"cv_accuracy\"])\n",
    "print(knn[\"matrix\"])"
   ]
  },
  {
   "attachments": {},
   "cell_type": "markdown",
   "metadata": {},
   "source": [
    "Q3\n",
    "The accuracies in this section are lower than those in Part One, with cross-validated values averaging around 0.63 compared to 0.86 earlier. This drop in performance is likely due to Hybrid strains being easily confused with either Sativa or Indica, depending on the strain's dominant characteristics. The confusion matrices reveal that misclassification is most common between Hybrid and Sativa strains, as indicated by frequent off-diagonal entries. This likely stems from overlapping feature patterns, making it challenging for the model to accurately distinguish between these two categories."
   ]
  },
  {
   "attachments": {},
   "cell_type": "markdown",
   "metadata": {},
   "source": [
    "Part Three: Multiclass from Binary\n",
    "Consider two models designed for binary classification: SVC and Logistic Regression."
   ]
  },
  {
   "cell_type": "code",
   "execution_count": 20,
   "metadata": {},
   "outputs": [
    {
     "name": "stdout",
     "output_type": "stream",
     "text": [
      "Metrics for SVC: indica vs. Not indica\n",
      "              precision    recall  f1-score   support\n",
      "\n",
      "           0       0.87      0.80      0.83       307\n",
      "           1       0.61      0.71      0.66       132\n",
      "\n",
      "    accuracy                           0.77       439\n",
      "   macro avg       0.74      0.76      0.74       439\n",
      "weighted avg       0.79      0.77      0.78       439\n",
      "\n",
      "Metrics for Logistic Regression: indica vs. Not indica\n",
      "              precision    recall  f1-score   support\n",
      "\n",
      "           0       0.85      0.85      0.85       307\n",
      "           1       0.65      0.64      0.65       132\n",
      "\n",
      "    accuracy                           0.79       439\n",
      "   macro avg       0.75      0.75      0.75       439\n",
      "weighted avg       0.79      0.79      0.79       439\n",
      "\n",
      "Metrics for SVC: sativa vs. Not sativa\n",
      "              precision    recall  f1-score   support\n",
      "\n",
      "           0       0.81      1.00      0.90       357\n",
      "           1       0.00      0.00      0.00        82\n",
      "\n",
      "    accuracy                           0.81       439\n",
      "   macro avg       0.41      0.50      0.45       439\n",
      "weighted avg       0.66      0.81      0.73       439\n",
      "\n",
      "Metrics for Logistic Regression: sativa vs. Not sativa\n",
      "              precision    recall  f1-score   support\n",
      "\n",
      "           0       0.86      0.94      0.90       357\n",
      "           1       0.57      0.35      0.44        82\n",
      "\n",
      "    accuracy                           0.83       439\n",
      "   macro avg       0.72      0.65      0.67       439\n",
      "weighted avg       0.81      0.83      0.81       439\n",
      "\n"
     ]
    },
    {
     "name": "stderr",
     "output_type": "stream",
     "text": [
      "/Users/evaneldridge/opt/anaconda3/lib/python3.9/site-packages/sklearn/metrics/_classification.py:1531: UndefinedMetricWarning: Precision is ill-defined and being set to 0.0 in labels with no predicted samples. Use `zero_division` parameter to control this behavior.\n",
      "/Users/evaneldridge/opt/anaconda3/lib/python3.9/site-packages/sklearn/metrics/_classification.py:1531: UndefinedMetricWarning: Precision is ill-defined and being set to 0.0 in labels with no predicted samples. Use `zero_division` parameter to control this behavior.\n",
      "/Users/evaneldridge/opt/anaconda3/lib/python3.9/site-packages/sklearn/metrics/_classification.py:1531: UndefinedMetricWarning: Precision is ill-defined and being set to 0.0 in labels with no predicted samples. Use `zero_division` parameter to control this behavior.\n"
     ]
    },
    {
     "name": "stdout",
     "output_type": "stream",
     "text": [
      "Metrics for SVC: hybrid vs. Not hybrid\n",
      "              precision    recall  f1-score   support\n",
      "\n",
      "           0       0.63      0.43      0.51       214\n",
      "           1       0.58      0.76      0.66       225\n",
      "\n",
      "    accuracy                           0.60       439\n",
      "   macro avg       0.61      0.60      0.59       439\n",
      "weighted avg       0.61      0.60      0.59       439\n",
      "\n",
      "Metrics for Logistic Regression: hybrid vs. Not hybrid\n",
      "              precision    recall  f1-score   support\n",
      "\n",
      "           0       0.62      0.55      0.58       214\n",
      "           1       0.61      0.68      0.64       225\n",
      "\n",
      "    accuracy                           0.61       439\n",
      "   macro avg       0.61      0.61      0.61       439\n",
      "weighted avg       0.61      0.61      0.61       439\n",
      "\n"
     ]
    }
   ],
   "source": [
    "#Q3\n",
    "\n",
    "X = hybrid.drop(columns=[\"Type\", \"Strain\", \"Effects\", \"Flavor\"])  \n",
    "y = hybrid[\"Type\"]\n",
    "class_labels = [\"indica\", \"sativa\", \"hybrid\"] \n",
    "\n",
    "for label in class_labels:\n",
    "    #ChatGPT - Iterate through labels in for loop\n",
    "    y_binary = np.where(y == label, 1, 0)\n",
    "    X_train, X_test, y_train, y_test = train_test_split(X, y_binary, test_size=0.2, stratify=y_binary, random_state=1)\n",
    "    \n",
    "    svc = SVC(probability=True, random_state=1)\n",
    "    svc.fit(X_train, y_train)\n",
    "    \n",
    "    y_pred_svc = svc.predict(X_test)\n",
    "    print(f\"Metrics for SVC: {label} vs. Not {label}\")\n",
    "    print(classification_report(y_test, y_pred_svc))\n",
    "    \n",
    "    log_reg = LogisticRegression(max_iter=1000, random_state=1)\n",
    "    log_reg.fit(X_train, y_train)\n",
    "    \n",
    "    y_pred_log_reg = log_reg.predict(X_test)\n",
    "    print(f\"Metrics for Logistic Regression: {label} vs. Not {label}\")\n",
    "    print(classification_report(y_test, y_pred_log_reg))\n"
   ]
  },
  {
   "attachments": {},
   "cell_type": "markdown",
   "metadata": {},
   "source": [
    "Q2\n",
    "Which of the six models did the best job distinguishing the target category from the rest? Which did the worst? Does this make intuitive sense?\n",
    "\n",
    "The Logistic Regression model for \"Indica vs. Not Indica\" performed the best, with a balanced macro F1-score of 0.75 and accuracy of 79%, showing it effectively distinguished the target category. The SVC model for \"Sativa vs. Not Sativa\" performed the worst, failing to predict the minority class entirely, as indicated by a precision and recall of 0. Yes this makes sense."
   ]
  },
  {
   "cell_type": "code",
   "execution_count": 25,
   "metadata": {},
   "outputs": [
    {
     "name": "stdout",
     "output_type": "stream",
     "text": [
      "Metrics for SVC: indica vs. sativa\n",
      "              precision    recall  f1-score   support\n",
      "\n",
      "           0       0.88      0.77      0.82       123\n",
      "           1       0.87      0.93      0.90       198\n",
      "\n",
      "    accuracy                           0.87       321\n",
      "   macro avg       0.87      0.85      0.86       321\n",
      "weighted avg       0.87      0.87      0.87       321\n",
      "\n",
      "Metrics for SVC: indica vs. hybrid\n",
      "              precision    recall  f1-score   support\n",
      "\n",
      "           0       0.82      0.79      0.80       337\n",
      "           1       0.66      0.70      0.68       198\n",
      "\n",
      "    accuracy                           0.76       535\n",
      "   macro avg       0.74      0.74      0.74       535\n",
      "weighted avg       0.76      0.76      0.76       535\n",
      "\n",
      "Metrics for SVC: hybrid vs. sativa\n",
      "              precision    recall  f1-score   support\n",
      "\n",
      "           0       0.00      0.00      0.00       123\n",
      "           1       0.73      1.00      0.85       337\n",
      "\n",
      "    accuracy                           0.73       460\n",
      "   macro avg       0.37      0.50      0.42       460\n",
      "weighted avg       0.54      0.73      0.62       460\n",
      "\n"
     ]
    },
    {
     "name": "stderr",
     "output_type": "stream",
     "text": [
      "/Users/evaneldridge/opt/anaconda3/lib/python3.9/site-packages/sklearn/metrics/_classification.py:1531: UndefinedMetricWarning: Precision is ill-defined and being set to 0.0 in labels with no predicted samples. Use `zero_division` parameter to control this behavior.\n",
      "/Users/evaneldridge/opt/anaconda3/lib/python3.9/site-packages/sklearn/metrics/_classification.py:1531: UndefinedMetricWarning: Precision is ill-defined and being set to 0.0 in labels with no predicted samples. Use `zero_division` parameter to control this behavior.\n",
      "/Users/evaneldridge/opt/anaconda3/lib/python3.9/site-packages/sklearn/metrics/_classification.py:1531: UndefinedMetricWarning: Precision is ill-defined and being set to 0.0 in labels with no predicted samples. Use `zero_division` parameter to control this behavior.\n"
     ]
    }
   ],
   "source": [
    "#Q3\n",
    "#SVC\n",
    "pairs = [(\"indica\", \"sativa\"), (\"indica\", \"hybrid\"), (\"hybrid\", \"sativa\")]\n",
    "\n",
    "for class1, class2 in pairs:\n",
    "    #ChatGPT - Help iterate through classes\n",
    "    mask = (y == class1) | (y == class2)\n",
    "    X_filtered, y_filtered = X[mask], y[mask]\n",
    "    \n",
    "    y_binary = np.where(y_filtered == class1, 1, 0)\n",
    "    \n",
    "    X_train, X_test, y_train, y_test = train_test_split(X_filtered, y_binary, test_size=0.3, stratify=y_binary, random_state=1)\n",
    "    \n",
    "    svc = SVC(probability=True, random_state=1)\n",
    "    svc.fit(X_train, y_train)\n",
    "    \n",
    "    y_pred = svc.predict(X_test)\n",
    "    print(f\"Metrics for SVC: {class1} vs. {class2}\")\n",
    "    print(classification_report(y_test, y_pred))"
   ]
  },
  {
   "cell_type": "code",
   "execution_count": 26,
   "metadata": {},
   "outputs": [
    {
     "name": "stdout",
     "output_type": "stream",
     "text": [
      "Metrics for Logistic Regression: indica vs. sativa\n",
      "              precision    recall  f1-score   support\n",
      "\n",
      "           0       0.85      0.79      0.82       123\n",
      "           1       0.87      0.91      0.89       198\n",
      "\n",
      "    accuracy                           0.87       321\n",
      "   macro avg       0.86      0.85      0.86       321\n",
      "weighted avg       0.87      0.87      0.86       321\n",
      "\n",
      "Metrics for Logistic Regression: indica vs. hybrid\n",
      "              precision    recall  f1-score   support\n",
      "\n",
      "           0       0.79      0.83      0.81       337\n",
      "           1       0.68      0.63      0.66       198\n",
      "\n",
      "    accuracy                           0.76       535\n",
      "   macro avg       0.74      0.73      0.73       535\n",
      "weighted avg       0.75      0.76      0.75       535\n",
      "\n",
      "Metrics for Logistic Regression: hybrid vs. sativa\n",
      "              precision    recall  f1-score   support\n",
      "\n",
      "           0       0.59      0.32      0.41       123\n",
      "           1       0.79      0.92      0.85       337\n",
      "\n",
      "    accuracy                           0.76       460\n",
      "   macro avg       0.69      0.62      0.63       460\n",
      "weighted avg       0.73      0.76      0.73       460\n",
      "\n"
     ]
    }
   ],
   "source": [
    "#Logistic\n",
    "for class1, class2 in pairs:\n",
    "    mask = (y == class1) | (y == class2)\n",
    "    X_filtered, y_filtered = X[mask], y[mask]\n",
    "    \n",
    "    y_binary = np.where(y_filtered == class1, 1, 0)\n",
    "    \n",
    "    X_train, X_test, y_train, y_test = train_test_split(\n",
    "        X_filtered, y_binary, test_size=0.3, stratify=y_binary, random_state=1\n",
    "    )\n",
    "    \n",
    "    lr = LogisticRegression(random_state=1)\n",
    "    lr.fit(X_train, y_train)\n",
    "    \n",
    "    #evaluate\n",
    "    y_pred = lr.predict(X_test)\n",
    "    print(f\"Metrics for Logistic Regression: {class1} vs. {class2}\")\n",
    "    print(classification_report(y_test, y_pred))"
   ]
  },
  {
   "attachments": {},
   "cell_type": "markdown",
   "metadata": {},
   "source": [
    "Q4\n",
    "Which of the six models did the best job distinguishing at differentiating the two groups? Which did the worst? Does this make intuitive sense?\n",
    "\n",
    "Out of all the models, logistic regression, Indica vs Stativa did the best (accuracy = 0.87). SVC hybrid vs. sativa performed the worst with a accuracy of just 0.73. This result makes sense, as Indica vs. Sativa likely performed best due to their distinct characteristics, while Hybrid vs. Sativa struggled because hybrids share traits with both, causing greater overlap."
   ]
  },
  {
   "attachments": {},
   "cell_type": "markdown",
   "metadata": {},
   "source": [
    "Q5\n",
    "Suppose you had simply input the full data, with three classes, into the LogisticRegression function. Would this have automatically taken an “OvO” approach or an “OvR” approach?\n",
    "What about for SVC?\n",
    "\n",
    "For multiclass classification, LogisticRegression in sklearn automatically uses the \"One-vs-Rest\" (OvR) approach by default. However, it can perform true multinomial logistic regression if the multi_class=\"multinomial\" option is specified with compatible solvers like lbfgs. On the other hand, SVC naturally handles multiclass input using the \"One-vs-One\" (OvO) approach, training separate classifiers for each pair of classes."
   ]
  }
 ],
 "metadata": {
  "kernelspec": {
   "display_name": "base",
   "language": "python",
   "name": "python3"
  },
  "language_info": {
   "codemirror_mode": {
    "name": "ipython",
    "version": 3
   },
   "file_extension": ".py",
   "mimetype": "text/x-python",
   "name": "python",
   "nbconvert_exporter": "python",
   "pygments_lexer": "ipython3",
   "version": "3.9.12"
  },
  "orig_nbformat": 4,
  "vscode": {
   "interpreter": {
    "hash": "d68bc9174181c9a2e4ba6d03ea5ca7322c445067c2e91f03974787df37163303"
   }
  }
 },
 "nbformat": 4,
 "nbformat_minor": 2
}
